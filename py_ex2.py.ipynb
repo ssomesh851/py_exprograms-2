{
 "cells": [
  {
   "cell_type": "code",
   "execution_count": 6,
   "metadata": {},
   "outputs": [
    {
     "name": "stdout",
     "output_type": "stream",
     "text": [
      "**\n",
      "******\n",
      "**********\n",
      "*****\n"
     ]
    }
   ],
   "source": [
    "#histogram\n",
    "def histogram(n):\n",
    "    for i in n:\n",
    "        output = \"\"\n",
    "        times = i\n",
    "        while times > 0:\n",
    "            output += '*'\n",
    "            times = times-1\n",
    "        print(output)\n",
    "histogram([2,6,10,5])"
   ]
  },
  {
   "cell_type": "code",
   "execution_count": 7,
   "metadata": {},
   "outputs": [
    {
     "name": "stdout",
     "output_type": "stream",
     "text": [
      "enter the first number:20\n",
      "enter the second number:26\n",
      "2\n"
     ]
    }
   ],
   "source": [
    "#calculate greatest common divisior\n",
    "def computegcd(a,b):\n",
    "    if b==0:\n",
    "        return a\n",
    "    else:\n",
    "        return computegcd(b,a%b)\n",
    "num1 = int(input('enter the first number:'))\n",
    "num2 = int(input('enter the second number:'))\n",
    "print(computegcd(num1,num2))"
   ]
  },
  {
   "cell_type": "code",
   "execution_count": 8,
   "metadata": {},
   "outputs": [
    {
     "name": "stdout",
     "output_type": "stream",
     "text": [
      "enter a number:25\n",
      "enter a number:36\n"
     ]
    },
    {
     "data": {
      "text/plain": [
       "900"
      ]
     },
     "execution_count": 8,
     "metadata": {},
     "output_type": "execute_result"
    }
   ],
   "source": [
    "#find out the lcm\n",
    "def computelcd(x,y):\n",
    "    if x>y:\n",
    "        z = x\n",
    "    else:\n",
    "        z = y\n",
    "    while True:\n",
    "        if((z%x == 0) and (z%y == 0)):\n",
    "            lcm = z\n",
    "            break\n",
    "        z += 1\n",
    "    return lcm\n",
    "a = int(input('enter a number:'))\n",
    "b = int(input('enter a number:'))\n",
    "computelcd(a,b)"
   ]
  },
  {
   "cell_type": "code",
   "execution_count": 9,
   "metadata": {},
   "outputs": [
    {
     "data": {
      "text/plain": [
       "6"
      ]
     },
     "execution_count": 9,
     "metadata": {},
     "output_type": "execute_result"
    }
   ],
   "source": [
    "def sum(x,y,z):\n",
    "    if x == y or y == z or x == z:\n",
    "        sum = 0\n",
    "    else:\n",
    "        sum = x+y+z\n",
    "    return sum\n",
    "sum(1,2,3)"
   ]
  },
  {
   "cell_type": "code",
   "execution_count": 14,
   "metadata": {},
   "outputs": [
    {
     "data": {
      "text/plain": [
       "62"
      ]
     },
     "execution_count": 14,
     "metadata": {},
     "output_type": "execute_result"
    }
   ],
   "source": [
    "def sum1(x,y):\n",
    "    sum = x+y\n",
    "    if sum in range(15,20):\n",
    "        print(\"sum:\",20)\n",
    "    else:\n",
    "        return sum \n",
    "sum1(10,52)\n",
    "    "
   ]
  },
  {
   "cell_type": "code",
   "execution_count": 23,
   "metadata": {},
   "outputs": [],
   "source": [
    "#wap it returns true if two integers are equal or their sum or difference is 5\n",
    "def check(x,y):\n",
    "    sum = x+y\n",
    "    diff = x-y\n",
    "    if x == y or sum == 5 or diff == 5:\n",
    "        print(\"True\")\n",
    "check(10,20)"
   ]
  },
  {
   "cell_type": "code",
   "execution_count": 26,
   "metadata": {},
   "outputs": [
    {
     "data": {
      "text/plain": [
       "13"
      ]
     },
     "execution_count": 26,
     "metadata": {},
     "output_type": "execute_result"
    }
   ],
   "source": [
    "def add_numbers(x,y):\n",
    "    if not (isinstance(x,int)) and (isinstance(y,int)):\n",
    "        raise TypeError(\"Inputs must be integers\")\n",
    "    return x+y\n",
    "add_numbers(12,)"
   ]
  },
  {
   "cell_type": "code",
   "execution_count": 30,
   "metadata": {},
   "outputs": [
    {
     "name": "stdout",
     "output_type": "stream",
     "text": [
      "Name: mahesh\n",
      "age: 43\n",
      "address: jublihills\n"
     ]
    }
   ],
   "source": [
    "#dispalying information\n",
    "class INFO:\n",
    "    def __init__(self,name,age,address):\n",
    "        self.name=name\n",
    "        self.age=age\n",
    "        self.address=address\n",
    "    def display(self):\n",
    "        print(\"Name:\",self.name)\n",
    "        print(\"age:\",self.age)\n",
    "        print('address:',self.address)\n",
    "a = INFO(\"mahesh\",43,\"jublihills\")\n",
    "a.display()\n"
   ]
  },
  {
   "cell_type": "code",
   "execution_count": 34,
   "metadata": {},
   "outputs": [
    {
     "name": "stdout",
     "output_type": "stream",
     "text": [
      "entera number:20\n",
      "enter a number:36\n",
      "(20+36)^2) = 3136\n"
     ]
    }
   ],
   "source": [
    "#wap to solve (x+y)*(x+y)\n",
    "x = int(input('entera number:'))\n",
    "y = int(input('enter a number:'))\n",
    "result = x*x+2*x*y+y*y\n",
    "print('({}+{})^2) = {}'.format(x,y,result))"
   ]
  },
  {
   "cell_type": "code",
   "execution_count": 35,
   "metadata": {},
   "outputs": [
    {
     "name": "stdout",
     "output_type": "stream",
     "text": [
      "12722.79\n"
     ]
    }
   ],
   "source": [
    "amt = 10000\n",
    "int = 3.5\n",
    "years = 7\n",
    "future_value = amt*((1+(0.01*int)) ** years)\n",
    "print(round(future_value,2))"
   ]
  },
  {
   "cell_type": "code",
   "execution_count": 36,
   "metadata": {},
   "outputs": [
    {
     "data": {
      "text/plain": [
       "16.55294535724685"
      ]
     },
     "execution_count": 36,
     "metadata": {},
     "output_type": "execute_result"
    }
   ],
   "source": [
    "#wap to find out distance between two points\n",
    "import math\n",
    "p1 = [5,2]\n",
    "p2 = [10,5]\n",
    "distance = math.sqrt(((p1[0]+p2[0])**2)+((p1[1]+p2[1])**2))\n",
    "distance"
   ]
  }
 ],
 "metadata": {
  "kernelspec": {
   "display_name": "Python 3",
   "language": "python",
   "name": "python3"
  },
  "language_info": {
   "codemirror_mode": {
    "name": "ipython",
    "version": 3
   },
   "file_extension": ".py",
   "mimetype": "text/x-python",
   "name": "python",
   "nbconvert_exporter": "python",
   "pygments_lexer": "ipython3",
   "version": "3.6.5"
  }
 },
 "nbformat": 4,
 "nbformat_minor": 2
}
